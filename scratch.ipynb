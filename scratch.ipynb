{
 "cells": [
  {
   "cell_type": "code",
   "execution_count": 3,
   "metadata": {
    "collapsed": false
   },
   "outputs": [],
   "source": [
    "\n"
   ]
  },
  {
   "cell_type": "code",
   "execution_count": 17,
   "metadata": {
    "collapsed": false
   },
   "outputs": [],
   "source": [
    "# from wordfreq import word_frequency\n",
    "from googletrans import Translator\n",
    "# from base64 import b64decode\n",
    "# import spacy as spacy\n",
    "\n",
    "translator = Translator()\n",
    "LANG = {\"de\": \"de_core_news_sm\"}"
   ]
  },
  {
   "cell_type": "code",
   "execution_count": 10,
   "metadata": {
    "collapsed": false
   },
   "outputs": [],
   "source": [
    "SIDD = \"siddhartha.txt\"\n",
    "OUTPUT = \"output.txt\"\n",
    "\n",
    "def append_to_output(line):\n",
    "    with open(OUTPUT,\"a\") as f:\n",
    "        f.write(line)"
   ]
  },
  {
   "cell_type": "code",
   "execution_count": 30,
   "metadata": {
    "collapsed": false
   },
   "outputs": [],
   "source": [
    "def is_chapter_break(line):\n",
    "    return (line.isupper())\n",
    "\n",
    "with open(OUTPUT,\"w\") as f:\n",
    "    f.write(\"\")\n",
    "\n",
    "with open(SIDD) as f:\n",
    "    for line in f:\n",
    "        if is_chapter_break(line):\n",
    "            line = line.strip()\n",
    "            translated_line = translator.translate(line, dest=\"en\").text\n",
    "            append_to_output(line + \" - \" + translated_line + \"\\n\")\n",
    "            "
   ]
  },
  {
   "cell_type": "code",
   "execution_count": 31,
   "metadata": {
    "collapsed": false
   },
   "outputs": [
    {
     "name": "stdout",
     "output_type": "stream",
     "text": [
      "SIDDHARTHA - SIDDHARTHA\n",
      "\n",
      "ERSTER TEIL - FIRST PART\n",
      "\n",
      "DER SOHN DES BRAHMANEN - THE SON OF THE BRAHMAN\n",
      "\n",
      "BEI DEN SAMANAS - BY THE SAMANAS\n",
      "\n",
      "GOTAMA - GOTAMA\n",
      "\n",
      "ERWACHEN - AWAKENING\n",
      "\n",
      "KAMALA - KAMALA\n",
      "\n",
      "BEI DEN KINDERMENSCHEN - WITH THE CHILDREN\n",
      "\n",
      "SANSARA - SANSARA\n",
      "\n",
      "AM FLUSSE - ON THE RIVER\n",
      "\n",
      "DER FÄHRMANN - THE FERRYMAN\n",
      "\n",
      "DER SOHN - THE SON\n",
      "\n",
      "OM - IF\n",
      "\n",
      "GOVINDA - GOVINDA\n",
      "\n"
     ]
    }
   ],
   "source": [
    "with open(OUTPUT,\"r\") as f:\n",
    "    for line in f:\n",
    "        print(line)"
   ]
  },
  {
   "cell_type": "code",
   "execution_count": null,
   "metadata": {
    "collapsed": false
   },
   "outputs": [],
   "source": []
  }
 ],
 "metadata": {
  "kernelspec": {
   "argv": [
    "/Users/cromptonwork/opt/anaconda3/envs/footnotes/bin/python",
    "-m",
    "ipykernel_launcher",
    "-f",
    "{connection_file}"
   ],
   "display_name": "footnotes",
   "env": null,
   "interrupt_mode": "signal",
   "language": "python",
   "metadata": null,
   "name": "footnotes"
  },
  "name": "scratch.ipynb"
 },
 "nbformat": 4,
 "nbformat_minor": 4
}
