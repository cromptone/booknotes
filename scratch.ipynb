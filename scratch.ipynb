{
 "cells": [
  {
   "cell_type": "code",
   "execution_count": 3,
   "metadata": {
    "collapsed": false
   },
   "outputs": [],
   "source": [
    "\n"
   ]
  },
  {
   "cell_type": "code",
   "execution_count": null,
   "metadata": {
    "collapsed": false
   },
   "outputs": [],
   "source": [
    "from wordfreq import word_frequency\n",
    "from googletrans import Translator\n",
    "import spacy as spacy"
   ]
  },
  {
   "cell_type": "code",
   "execution_count": 1,
   "metadata": {
    "collapsed": false
   },
   "outputs": [],
   "source": [
    "translator = Translator()s\n",
    "LANG = {\"de\": \"de_core_news_sm\"}\n",
    "nlp = spacy.load(LANG[\"de\"])"
   ]
  },
  {
   "cell_type": "code",
   "execution_count": 2,
   "metadata": {
    "collapsed": false
   },
   "outputs": [],
   "source": [
    "SIDD = \"siddhartha.txt\"\n",
    "OUTPUT = \"output.txt\"\n",
    "\n",
    "def append_to_output(line):\n",
    "    with open(OUTPUT,\"a\") as f:\n",
    "        f.write(line)"
   ]
  },
  {
   "cell_type": "code",
   "execution_count": 3,
   "metadata": {
    "collapsed": false
   },
   "outputs": [],
   "source": [
    "def is_chapter_break(line):\n",
    "    return (line.isupper())\n",
    "\n",
    "def append_chapter_break(line):\n",
    "    line = line.strip()\n",
    "    translated_line = translator.translate(line, dest=\"en\").text\n",
    "    append_to_output(\"\\n\" + line + \" - \" + translated_line + \"\\n\")\n",
    "\n",
    "def trans``late_and_append(words):\n",
    "    words_to_translate = []\n",
    "    for word in words:\n",
    "        if word_frequency(word, \"de\") < .000005:\n",
    "            words_to_translate.append(word)\n",
    "    with open(OUTPUT,\"a\") as f:\n",
    "        translations = translator.translate(words_to_translate, dest='en') \n",
    "        for translation in translations:\n",
    "            l1 = translation.origin\n",
    "            l2 = translation.text\n",
    "            if l1 != l2:\n",
    "                f.write(\" \" + l1 + \" - \" + l2 + \"\\n\")\n",
    "    \n",
    "with open(OUTPUT,\"w\") as f:\n",
    "    f.write(\"\")\n",
    "\n",
    "with open(SIDD) as f:\n",
    "    for line in f:\n",
    "        if is_chapter_break(line):\n",
    "            append_chapter_break(line)\n",
    "        else:\n",
    "            words = [token.lemma_ for token in nlp(line) if token.is_alpha]\n",
    "            words = list(dict.fromkeys(words))\n",
    "            translate_and_append(words)\n",
    "            "
   ]
  },
  {
   "cell_type": "code",
   "execution_count": 5,
   "metadata": {
    "collapsed": false
   },
   "outputs": [],
   "source": [
    "# TODO: remove duplicates"
   ]
  },
  {
   "cell_type": "code",
   "execution_count": 4,
   "metadata": {
    "collapsed": false
   },
   "outputs": [
    {
     "data": {
      "text/plain": [
       "591"
      ]
     },
     "execution_count": 4,
     "metadata": {},
     "output_type": "execute_result"
    }
   ],
   "source": [
    "\n",
    "1 + 590\n",
    "\n"
   ]
  },
  {
   "cell_type": "code",
   "execution_count": null,
   "metadata": {
    "collapsed": false
   },
   "outputs": [],
   "source": [
    " f"
   ]
  },
  {
   "cell_type": "code",
   "execution_count": 54,
   "metadata": {
    "collapsed": false
   },
   "outputs": [
    {
     "data": {
      "text/plain": [
       "561"
      ]
     },
     "execution_count": 54,
     "metadata": {},
     "output_type": "execute_result"
    }
   ],
   "source": []
  },
  {
   "cell_type": "code",
   "execution_count": 52,
   "metadata": {
    "collapsed": false
   },
   "outputs": [
    {
     "data": {
      "text/plain": [
       "3"
      ]
     },
     "execution_count": 52,
     "metadata": {},
     "output_type": "execute_result"
    }
   ],
   "source": []
  },
  {
   "cell_type": "code",
   "execution_count": null,
   "metadata": {
    "collapsed": false
   },
   "outputs": [],
   "source": []
  }
 ],
 "metadata": {
  "kernelspec": {
   "argv": [
    "/Users/cromptonwork/opt/anaconda3/envs/footnotes/bin/python",
    "-m",
    "ipykernel_launcher",
    "-f",
    "{connection_file}"
   ],
   "display_name": "footnotes",
   "env": null,
   "interrupt_mode": "signal",
   "language": "python",
   "metadata": null,
   "name": "footnotes"
  },
  "language_info": {
   "codemirror_mode": {
    "name": "ipython",
    "version": 3
   },
   "file_extension": ".py",
   "mimetype": "text/x-python",
   "name": "python",
   "nbconvert_exporter": "python",
   "pygments_lexer": "ipython3",
   "version": "3.8.5"
  },
  "name": "scratch.ipynb"
 },
 "nbformat": 4,
 "nbformat_minor": 4
}
