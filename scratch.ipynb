{
 "cells": [
  {
   "cell_type": "code",
   "execution_count": 3,
   "metadata": {
    "collapsed": false
   },
   "outputs": [],
   "source": [
    "\n"
   ]
  },
  {
   "cell_type": "code",
   "execution_count": null,
   "metadata": {
    "collapsed": false
   },
   "outputs": [],
   "source": [
    "# from wordfreq import word_frequency\n",
    "from googletrans import Translator\n",
    "# from base64 import b64decode\n",
    "# import spacy as spacy\n",
    "\n",
    "translator = Translator()\n",
    "LANG = {\"de\": \"de_core_news_sm\"}"
   ]
  },
  {
   "cell_type": "code",
   "execution_count": 10,
   "metadata": {
    "collapsed": false
   },
   "outputs": [],
   "source": [
    "SIDD = \"siddhartha.txt\"\n",
    "OUTPUT = \"output.txt\"\n",
    "\n",
    "def append_to_output(line):\n",
    "    with open(OUTPUT,\"a\") as f:\n",
    "        f.write(line)"
   ]
  },
  {
   "cell_type": "code",
   "execution_count": 15,
   "metadata": {
    "collapsed": false
   },
   "outputs": [],
   "source": [
    "def is_chapter_break(line):\n",
    "    return (line.isupper())\n",
    "\n",
    "with open(OUTPUT,\"w\") as f:\n",
    "    f.write(\"\")\n",
    "\n",
    "with open(SIDD) as f:\n",
    "    for line in f:\n",
    "        if line.isupper():\n",
    "            append_to_output(line)\n",
    "            "
   ]
  },
  {
   "cell_type": "code",
   "execution_count": 16,
   "metadata": {
    "collapsed": false
   },
   "outputs": [
    {
     "name": "stdout",
     "output_type": "stream",
     "text": [
      "SIDDHARTHA\n",
      "\n",
      "ERSTER TEIL\n",
      "\n",
      "DER SOHN DES BRAHMANEN\n",
      "\n",
      "BEI DEN SAMANAS\n",
      "\n",
      "GOTAMA\n",
      "\n",
      "ERWACHEN\n",
      "\n",
      "KAMALA\n",
      "\n",
      "BEI DEN KINDERMENSCHEN\n",
      "\n",
      "SANSARA\n",
      "\n",
      "AM FLUSSE\n",
      "\n",
      "DER FÄHRMANN\n",
      "\n",
      "DER SOHN\n",
      "\n",
      "OM\n",
      "\n",
      "GOVINDA\n",
      "\n"
     ]
    }
   ],
   "source": [
    "with open(OUTPUT,\"r\") as f:\n",
    "    for line in f:\n",
    "        print(line)"
   ]
  },
  {
   "cell_type": "code",
   "execution_count": null,
   "metadata": {
    "collapsed": false
   },
   "outputs": [],
   "source": []
  }
 ],
 "metadata": {
  "kernelspec": {
   "argv": [
    "/Users/cromptonwork/opt/anaconda3/envs/footnotes/bin/python",
    "-m",
    "ipykernel_launcher",
    "-f",
    "{connection_file}"
   ],
   "display_name": "footnotes",
   "env": null,
   "interrupt_mode": "signal",
   "language": "python",
   "metadata": null,
   "name": "footnotes"
  },
  "name": "scratch.ipynb"
 },
 "nbformat": 4,
 "nbformat_minor": 4
}
