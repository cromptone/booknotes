{
 "cells": [
  {
   "cell_type": "code",
   "execution_count": 15,
   "metadata": {
    "collapsed": false
   },
   "outputs": [],
   "source": [
    "from wordfreq import word_frequency\n",
    "from googletrans import Translator\n",
    "import spacy as spacy"
   ]
  },
  {
   "cell_type": "code",
   "execution_count": 13,
   "metadata": {
    "collapsed": false
   },
   "outputs": [],
   "source": [
    "texts = {\"sidd\": \"siddhartha.txt\",\n",
    "         \"atala\": \"atala.txt\"}\n",
    "\n",
    "TEXT = texts[\"atala\"]\n",
    "OUTPUT = \"output_\" + TEXT\n",
    "TEXT_LANG = \"fr\"\n",
    "\n",
    "\n",
    "translator = Translator()\n",
    "LANG = {\"de\": \"de_core_news_sm\",\n",
    "        \"fr\": \"fr_core_news_sm\"}\n",
    "nlp = spacy.load(LANG[TEXT_LANG])"
   ]
  },
  {
   "cell_type": "code",
   "execution_count": null,
   "metadata": {
    "collapsed": false
   },
   "outputs": [],
   "source": [
    "def append_to_output(line):\n",
    "    with open(OUTPUT,\"a\") as f:\n",
    "        f.write(line)\n",
    "\n",
    "def is_chapter_break(line):\n",
    "    return (line.isupper())\n",
    "\n",
    "def append_chapter_break(line):\n",
    "    line = line.strip()\n",
    "    translated_line = translator.translate(line, dest=\"en\").text\n",
    "    append_to_output(\"\\n\" + line + \" - \" + translated_line + \"\\n\")\n",
    "\n",
    "def translate_and_append(words):\n",
    "    words_to_translate = []\n",
    "    for word in words:\n",
    "        if word_frequency(word, TEXT_LANG) < .000005:\n",
    "            words_to_translate.append(word)\n",
    "    with open(OUTPUT,\"a\") as f:\n",
    "        translations = translator.translate(words_to_translate, dest='en') \n",
    "        for translation in translations:\n",
    "            l1 = translation.origin\n",
    "            l2 = translation.text\n",
    "            if l1 != l2:\n",
    "                f.write(\" \" + l1 + \" - \" + l2 + \"\\n\")\n",
    "\n",
    "    \n",
    "with open(OUTPUT,\"w\") as f:\n",
    "    f.write(\"\")\n",
    "\n",
    "counter = 0\n",
    "with open(TEXT) as f:\n",
    "    for line in f:\n",
    "        if is_chapter_break(line):\n",
    "            append_chapter_break(line)\n",
    "        else:\n",
    "            words = [token.lemma_ for token in nlp(line) if token.is_alpha]\n",
    "            words = list(dict.fromkeys(words))\n",
    "            translate_and_append(words)\n",
    "        counter += 1\n",
    "        print(\"line: \" + str(counter) + \",   \" + line)\n",
    "            "
   ]
  },
  {
   "cell_type": "markdown",
   "metadata": {
    "collapsed": false
   },
   "source": [
    "# TODO: remove duplicates"
   ]
  }
 ],
 "metadata": {
  "kernelspec": {
   "argv": [
    "/Users/cromptonwork/opt/anaconda3/envs/footnotes/bin/python",
    "-m",
    "ipykernel_launcher",
    "-f",
    "{connection_file}"
   ],
   "display_name": "footnotes",
   "env": null,
   "interrupt_mode": "signal",
   "language": "python",
   "metadata": null,
   "name": "footnotes"
  },
  "language_info": {
   "codemirror_mode": {
    "name": "ipython",
    "version": 3
   },
   "file_extension": ".py",
   "mimetype": "text/x-python",
   "name": "python",
   "nbconvert_exporter": "python",
   "pygments_lexer": "ipython3",
   "version": "3.8.5"
  },
  "name": "scratch.ipynb"
 },
 "nbformat": 4,
 "nbformat_minor": 4
}
